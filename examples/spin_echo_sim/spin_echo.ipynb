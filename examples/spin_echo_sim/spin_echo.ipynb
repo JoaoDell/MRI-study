{
 "cells": [
  {
   "cell_type": "markdown",
   "metadata": {},
   "source": [
    "# [WIP] Spin echo simulation"
   ]
  },
  {
   "cell_type": "code",
   "execution_count": 1,
   "metadata": {},
   "outputs": [],
   "source": [
    "import matplotlib.pyplot as plt\n",
    "import numpy as np"
   ]
  },
  {
   "cell_type": "code",
   "execution_count": 150,
   "metadata": {},
   "outputs": [],
   "source": [
    "def new_range(img : np.ndarray, min = 0.0, max = 1.0):\n",
    "  '''Function that converts an array to the given desired range.'''\n",
    "  return ((img - np.min(img))/(np.max(img) - np.min(img)))*(max - min) + min\n",
    "\n",
    "\n",
    "def normalize(vec : np.ndarray) -> np.ndarray:\n",
    "  \"\"\"Normalizes an array or a set of arrays.\n",
    "\n",
    "  Parameters\n",
    "  ----------\n",
    "  vec : np.ndarray (N, M)\n",
    "    Array to be normalized.\"\"\"\n",
    "  return vec/np.tile(np.linalg.norm(vec, axis = 0), vec.shape[0]).reshape(vec.shape)\n",
    "\n",
    "\n",
    "def rotate(vec : np.ndarray, alpha : float, beta : float, gamma : float):\n",
    "    \"\"\"Rotates a 3D array or set of arrays by a certain set of angles,in radians. \n",
    "    The order of rotation is Rxy*Rxz*Ryz, so it first rotates around \n",
    "    the x axis, then around the y axis, then around the z axis.\n",
    "\n",
    "    The matrix of rotations are:\n",
    "\n",
    "    Rxy = np.matrix([[ np.cos(alpha), np.sin(alpha), 0.0], \n",
    "                     [-np.sin(alpha), np.cos(alpha), 0.0], \n",
    "                     [           0.0,           0.0, 1.0]])\n",
    "    \n",
    "    Rxz = np.matrix([[  np.cos(beta),           0.0,           np.sin(beta)], \n",
    "                     [         0.0,            1.0,                   0.0], \n",
    "                     [ -np.sin(beta),           0.0,           np.cos(beta)]])\n",
    "    \n",
    "    Ryz = np.matrix([[ 1.0,              0.0,             0.0], \n",
    "                     [ 0.0,    np.cos(gamma),   np.sin(gamma)], \n",
    "                     [ 0.0,   -np.sin(gamma),   np.cos(gamma)]])\n",
    "    \n",
    "    Parameters\n",
    "    ----------\n",
    "    vec : np.ndarray (N, 3)\n",
    "      Array to be rotated.\n",
    "    alpha : float\n",
    "      angle of rotation around the z axis.\n",
    "    beta : float\n",
    "      angle of rotation around the y axis.\n",
    "    gamma : float\n",
    "      angle of rotation around the x axis.\n",
    "      \n",
    "    \"\"\"\n",
    "\n",
    "    \n",
    "    R = np.matrix([[np.cos(alpha)*np.cos(beta), np.cos(alpha)*np.sin(beta)*np.sin(gamma) - np.sin(alpha)*np.cos(gamma), np.cos(alpha)*np.sin(beta)*np.cos(gamma) + np.sin(alpha)*np.sin(gamma)], \n",
    "                   [np.sin(alpha)*np.cos(beta), np.sin(alpha)*np.sin(beta)*np.sin(gamma) + np.cos(alpha)*np.cos(gamma), np.sin(alpha)*np.sin(beta)*np.cos(gamma) - np.cos(alpha)*np.sin(gamma)], \n",
    "                   [-np.sin(beta), np.cos(beta)*np.sin(gamma), np.cos(beta)*np.cos(gamma)]])\n",
    "    \n",
    "    return np.asarray((R*np.matrix(vec).T).T)\n",
    "\n",
    "\n",
    "def apply_B(M : np.ndarray, B : np.ndarray, gamma : float, dt : float):\n",
    "  \"\"\"Applies a magnetic field B onto a magnetic moment M in a \n",
    "     certain interval dt, making it rotate about an angle w*dt, \n",
    "     with w = gamma*B_z, gamma being the gyromagnetic ratio of \n",
    "     the nucleus, and B_z the component of the magnetic field \n",
    "     orthogonal to the magnetic moment.\n",
    "     \n",
    "     Parameters\n",
    "     ----------\n",
    "     \n",
    "     M : np.ndarray\n",
    "      The magnetic moment of the atom\n",
    "     B : np.ndarray\n",
    "      The magnetic field to be applied.\n",
    "     gamma : float\n",
    "      The gyromagnetic moment of the nucleus\n",
    "     dt : float\n",
    "      The value of the simulation's dt\"\"\"\n",
    "\n",
    "  x = normalize(M)\n",
    "  y = np.cross(x, normalize(B))\n",
    "  z = np.cross(x, y)\n",
    "\n",
    "  B_z = np.dot(B, z)\n",
    "\n",
    "  w = gamma*B_z\n",
    "  f = w/(2.0*np.pi)\n",
    "\n",
    "  angle = f*dt\n",
    "\n",
    "  #first, a new coordinate system is defined \n",
    "  #so the rotations can be done in terms of angle\n",
    "  new_coord = np.matrix([x,\n",
    "                         y,\n",
    "                         z]).T\n",
    "  \n",
    "  #it is also important to understand how do the original coordinate\n",
    "  #system changes in the new one, so we can use it to come back\n",
    "  \n",
    "  #the vector is translated into the new coordinate system\n",
    "  new_vec = np.array(new_coord*(np.matrix(M).T)).T[0]\n",
    "\n",
    "  #the rotation is done\n",
    "  rotated = rotate(new_vec, -angle, 0.0, 0.0)\n",
    "\n",
    "  #we come back to the old coordinate system now with a rotated vector\n",
    "  back = np.array((new_coord*np.matrix(rotated).T)).T[0]\n",
    "  \n",
    "  return back\n",
    "\n"
   ]
  },
  {
   "cell_type": "code",
   "execution_count": 100,
   "metadata": {},
   "outputs": [],
   "source": [
    "n = 3\n",
    "\n",
    "u = 1.0\n",
    "\n",
    "spins = np.random.rand(n, 3)"
   ]
  },
  {
   "cell_type": "code",
   "execution_count": 141,
   "metadata": {},
   "outputs": [
    {
     "name": "stdout",
     "output_type": "stream",
     "text": [
      "[0. 1. 0.]\n",
      "[[0.000000e+00 6.123234e-17 1.000000e+00]]\n"
     ]
    }
   ],
   "source": [
    "v = np.array([0.0, 1.0, 0.0])\n",
    "\n",
    "vl = rotate(v, 0.0, 0.0, np.pi/2)\n",
    "\n",
    "print(v)\n",
    "print(vl)\n"
   ]
  },
  {
   "cell_type": "code",
   "execution_count": 160,
   "metadata": {},
   "outputs": [
    {
     "name": "stdout",
     "output_type": "stream",
     "text": [
      "[ 0.  0. -1.]\n"
     ]
    }
   ],
   "source": [
    "u = np.array([0.0, 0.0, 1.0])\n",
    "v = np.array([0.0, 1.0, 0.0])\n",
    "w = np.array([1.0, 0.0, 0.0])\n",
    "\n",
    "mat = np.matrix([u, \n",
    "                 v, \n",
    "                 w]).T\n",
    "\n",
    "print(mat)\n",
    "\n",
    "\n",
    "vec = np.array([1.0, 0.0, 2.0])\n",
    "\n",
    "changed = np.array((mat*np.matrix(vec).T)).T[0]\n",
    "\n",
    "print((mat*np.matrix(changed).T).T)\n",
    "\n",
    "\n",
    "\n",
    "\n"
   ]
  }
 ],
 "metadata": {
  "kernelspec": {
   "display_name": "mestrado",
   "language": "python",
   "name": "python3"
  },
  "language_info": {
   "codemirror_mode": {
    "name": "ipython",
    "version": 3
   },
   "file_extension": ".py",
   "mimetype": "text/x-python",
   "name": "python",
   "nbconvert_exporter": "python",
   "pygments_lexer": "ipython3",
   "version": "3.10.13"
  }
 },
 "nbformat": 4,
 "nbformat_minor": 2
}
