{
 "cells": [
  {
   "cell_type": "markdown",
   "metadata": {},
   "source": [
    "# [WIP] Spin echo simulation"
   ]
  },
  {
   "cell_type": "markdown",
   "metadata": {},
   "source": [
    "## Libraries\n",
    "The cells below include libraries that will be useful in the process of the simulation."
   ]
  },
  {
   "cell_type": "code",
   "execution_count": 1,
   "metadata": {},
   "outputs": [],
   "source": [
    "import matplotlib.pyplot as plt\n",
    "import numpy as np"
   ]
  },
  {
   "cell_type": "markdown",
   "metadata": {},
   "source": [
    "## Functions\n",
    "The cells below denote functions that will be useful for the simulation."
   ]
  },
  {
   "cell_type": "code",
   "execution_count": 56,
   "metadata": {},
   "outputs": [],
   "source": [
    "def new_range(img : np.ndarray, min = 0.0, max = 1.0):\n",
    "  '''Function that converts an array to the given desired range.'''\n",
    "  return ((img - np.min(img))/(np.max(img) - np.min(img)))*(max - min) + min\n",
    "\n",
    "\n",
    "def normalize(vec : np.ndarray) -> np.ndarray:\n",
    "  \"\"\"Normalizes an array or a set of arrays.\n",
    "\n",
    "  Parameters\n",
    "  ----------\n",
    "  vec : np.ndarray (N, M)\n",
    "    Array to be normalized.\"\"\"\n",
    "  return vec/np.tile(np.linalg.norm(vec, axis = 0), vec.shape[0]).reshape(vec.shape)\n",
    "  \n",
    "def rotation_matrix(alpha : float, beta : float, gamma : float):\n",
    "    \"\"\"Returns the final rotation matrix from the multiplication \n",
    "    of the three rotation matrices in the following order: Rxy*Rxz*Ryz, \n",
    "    which means it first rotates around the x axis, then around the y axis, \n",
    "    then around the z axis. \n",
    "\n",
    "    The matrix of rotations are:\n",
    "\n",
    "    Rxy = np.matrix([[ np.cos(alpha), np.sin(alpha), 0.0], \n",
    "                     [-np.sin(alpha), np.cos(alpha), 0.0], \n",
    "                     [           0.0,           0.0, 1.0]])\n",
    "    \n",
    "    Rxz = np.matrix([[  np.cos(beta),           0.0,           np.sin(beta)], \n",
    "                     [         0.0,            1.0,                   0.0], \n",
    "                     [ -np.sin(beta),           0.0,           np.cos(beta)]])\n",
    "    \n",
    "    Ryz = np.matrix([[ 1.0,              0.0,             0.0], \n",
    "                     [ 0.0,    np.cos(gamma),   np.sin(gamma)], \n",
    "                     [ 0.0,   -np.sin(gamma),   np.cos(gamma)]])\n",
    "    \n",
    "    Parameters\n",
    "    ----------\n",
    "    alpha : float\n",
    "      angle of rotation around the z axis.\n",
    "    beta : float\n",
    "      angle of rotation around the y axis.\n",
    "    gamma : float\n",
    "      angle of rotation around the x axis.\n",
    "      \n",
    "    \"\"\"\n",
    "\n",
    "    \n",
    "    R = np.matrix([[np.cos(alpha)*np.cos(beta), np.cos(alpha)*np.sin(beta)*np.sin(gamma) - np.sin(alpha)*np.cos(gamma), np.cos(alpha)*np.sin(beta)*np.cos(gamma) + np.sin(alpha)*np.sin(gamma)], \n",
    "                   [np.sin(alpha)*np.cos(beta), np.sin(alpha)*np.sin(beta)*np.sin(gamma) + np.cos(alpha)*np.cos(gamma), np.sin(alpha)*np.sin(beta)*np.cos(gamma) - np.cos(alpha)*np.sin(gamma)], \n",
    "                   [-np.sin(beta), np.cos(beta)*np.sin(gamma), np.cos(beta)*np.cos(gamma)]])\n",
    "    \n",
    "    return R\n",
    "\n",
    "def rotate(vec : np.ndarray, alpha : float, beta : float, gamma : float):\n",
    "    \"\"\"Rotates a 3D array or set of arrays by a certain set of angles, in radians. \n",
    "    The order of rotation is Rxy*Rxz*Ryz, so it first rotates around \n",
    "    the x axis, then around the y axis, then around the z axis. \n",
    "    \n",
    "    Parameters\n",
    "    ----------\n",
    "    vec : np.ndarray (N, 3)\n",
    "      Array to be rotated.\n",
    "    alpha : float\n",
    "      angle of rotation around the z axis.\n",
    "    beta : float\n",
    "      angle of rotation around the y axis.\n",
    "    gamma : float\n",
    "      angle of rotation around the x axis.\n",
    "      \n",
    "    \"\"\"\n",
    "    \n",
    "    R = rotation_matrix(alpha, beta, gamma)\n",
    "    \n",
    "    return np.asarray((R*np.matrix(vec).T).T)\n",
    "\n",
    "\n",
    "def apply_B(M : np.ndarray, B : np.ndarray, gamma : float, dt : float):\n",
    "  \"\"\"Applies a magnetic field B onto a magnetic moment M in a \n",
    "     certain interval dt, making it rotate about an angle w*dt, \n",
    "     with w = gamma*B_z, gamma being the gyromagnetic ratio of \n",
    "     the nucleus, and B_z the component of the magnetic field \n",
    "     orthogonal to the magnetic moment.\n",
    "     \n",
    "     Parameters\n",
    "     ----------\n",
    "     \n",
    "     M : np.ndarray\n",
    "      The magnetic moment of the atom\n",
    "     B : np.ndarray\n",
    "      The magnetic field to be applied.\n",
    "     gamma : float\n",
    "      The gyromagnetic moment of the nucleus\n",
    "     dt : float\n",
    "      The value of the simulation's dt\"\"\"\n",
    "\n",
    "  x = normalize(M)\n",
    "  y = np.cross(x, normalize(B))\n",
    "  z = np.cross(x, y)\n",
    "\n",
    "  B_z = np.dot(B, z)\n",
    "\n",
    "  w = gamma*B_z\n",
    "  f = w/(2.0*np.pi)\n",
    "\n",
    "  angle = f*dt\n",
    "\n",
    "  #first, a new coordinate system is defined \n",
    "  #so the rotations can be done in terms of angle\n",
    "  new_coord = np.matrix([x,\n",
    "                         y,\n",
    "                         z]).T\n",
    "  \n",
    "  #it is also important to understand how do the original coordinate\n",
    "  #system changes in the new one, so we can use it to come back\n",
    "  \n",
    "  #the vector is translated into the new coordinate system\n",
    "  new_vec = np.array(new_coord*(np.matrix(M).T)).T[0]\n",
    "\n",
    "  #the rotation is done\n",
    "  rotated = rotate(new_vec, -angle, 0.0, 0.0)\n",
    "\n",
    "  #we come back to the old coordinate system now with a rotated vector\n",
    "  #by multiplying the vector with the inverse matrix of the transformation,\n",
    "  #which is only the transpose matrix due to its orthonormality\n",
    "  back = np.array((new_coord.T*np.matrix(rotated).T)).T[0]\n",
    "  \n",
    "  return back\n",
    "\n",
    "\n",
    "def bloch_eq(M : np.ndarray, M0 : np.ndarray, B : np.ndarray, gamma : float, T1: float, T2: float, dt : float, debug : bool = False):\n",
    "\n",
    "  if debug:\n",
    "    print(\"M :\", M)\n",
    "    print(\"B :\", B)\n",
    "    print(\"MxB :\", np.cross(M, B))\n",
    "\n",
    "  # m1[0] = M[0] + (gamma*MxB[0] - (M[0])/T2)*dt\n",
    "  # m1[1] = M[1] + (gamma*MxB[1] - (M[1])/T2)*dt\n",
    "  # m1[2] = M[2] + (gamma*MxB[2] - (M[2] - M0[2])/T1)*dt\n",
    "    \n",
    "  # relax = np.array([(M[0])/T2, (M[1])/T2, (M[2] - M0[2])/T1])\n",
    "\n",
    "  return M + gamma*np.cross(M, B)*dt "
   ]
  },
  {
   "cell_type": "code",
   "execution_count": 4,
   "metadata": {},
   "outputs": [],
   "source": [
    "m1 = np.array([0.0, 0.0, 1.0])\n",
    "\n",
    "t0 = 0.0\n",
    "tn = 10.0\n",
    "dt = 0.001\n",
    "\n",
    "t = np.arange(t0, tn, dt)\n",
    "\n",
    "gamma = ((tn-t0)/dt)/10.0\n",
    "\n",
    "B0 = np.array([0.0, 0.0, 1.0])"
   ]
  },
  {
   "cell_type": "markdown",
   "metadata": {},
   "source": [
    "## Experimental\n",
    "The cells below are to experiment the features to be implemented to functions."
   ]
  },
  {
   "cell_type": "code",
   "execution_count": 5,
   "metadata": {},
   "outputs": [],
   "source": [
    "n = 3\n",
    "\n",
    "u = 1.0\n",
    "\n",
    "spins = np.random.rand(n, 3)"
   ]
  },
  {
   "cell_type": "code",
   "execution_count": 6,
   "metadata": {},
   "outputs": [
    {
     "name": "stdout",
     "output_type": "stream",
     "text": [
      "[0. 1. 0.]\n",
      "[[0.000000e+00 6.123234e-17 1.000000e+00]]\n"
     ]
    }
   ],
   "source": [
    "v = np.array([0.0, 1.0, 0.0])\n",
    "\n",
    "vl = rotate(v, 0.0, 0.0, np.pi/2)\n",
    "\n",
    "print(v)\n",
    "print(vl)\n"
   ]
  },
  {
   "cell_type": "code",
   "execution_count": 7,
   "metadata": {},
   "outputs": [
    {
     "name": "stdout",
     "output_type": "stream",
     "text": [
      "[[1. 0. 0.]\n",
      " [0. 1. 0.]\n",
      " [0. 0. 1.]]\n",
      "[[ 0. -1.  0.]\n",
      " [ 1.  0.  0.]\n",
      " [ 0.  0.  1.]]\n",
      "[[ 0. -1.  0.]\n",
      " [ 1.  0.  0.]\n",
      " [ 0.  0.  1.]]\n",
      "[[0. 0. 1.]\n",
      " [0. 1. 0.]\n",
      " [1. 0. 0.]]\n",
      "Original vector : [1. 0. 0.]\n",
      "Changed vector : [0. 1. 0.]\n",
      "Comeback vector : [1. 0. 0.]\n"
     ]
    }
   ],
   "source": [
    "# Experimental\n",
    "\n",
    "u = np.array([0.0, 0.0, 1.0])\n",
    "v = np.array([0.0, 1.0, 0.0])\n",
    "w = np.array([1.0, 0.0, 0.0])\n",
    "\n",
    "R = rotation_matrix(np.pi/2, 0.0, 0.0)\n",
    "\n",
    "R[np.abs(R) < 10e-17] = 0.0\n",
    "I = np.matrix(np.eye(3, 3))\n",
    "C = R*I\n",
    "\n",
    "print(I)\n",
    "\n",
    "print(R)\n",
    "\n",
    "print(C)\n",
    "\n",
    "mat = np.matrix([u, \n",
    "                 v, \n",
    "                 w]).T\n",
    "\n",
    "print(mat)\n",
    "\n",
    "vec = np.array([1.0, 0.0, 0.0])\n",
    "\n",
    "print(\"Original vector :\", vec)\n",
    "\n",
    "changed = np.array((R*np.matrix(vec).T)).T[0]\n",
    "\n",
    "print(\"Changed vector :\", changed)\n",
    "\n",
    "# rotated = rotate()\n",
    "\n",
    "print(\"Comeback vector :\", np.array(R.T*np.matrix(changed).T).T[0])"
   ]
  },
  {
   "cell_type": "code",
   "execution_count": 86,
   "metadata": {},
   "outputs": [
    {
     "name": "stderr",
     "output_type": "stream",
     "text": [
      "C:\\Users\\Lampada\\AppData\\Local\\Temp\\ipykernel_18304\\4276203424.py:13: RuntimeWarning: divide by zero encountered in divide\n",
      "  return vec/np.tile(np.linalg.norm(vec, axis = 0), vec.shape[0]).reshape(vec.shape)\n",
      "c:\\Users\\Lampada\\anaconda3\\envs\\mestrado\\lib\\site-packages\\numpy\\core\\numeric.py:1647: RuntimeWarning: invalid value encountered in multiply\n",
      "  multiply(a1, b2, out=cp0)\n",
      "c:\\Users\\Lampada\\anaconda3\\envs\\mestrado\\lib\\site-packages\\numpy\\core\\numeric.py:1650: RuntimeWarning: invalid value encountered in multiply\n",
      "  multiply(a2, b0, out=cp1)\n",
      "c:\\Users\\Lampada\\anaconda3\\envs\\mestrado\\lib\\site-packages\\numpy\\core\\numeric.py:1651: RuntimeWarning: invalid value encountered in multiply\n",
      "  multiply(a0, b2, out=tmp)\n",
      "c:\\Users\\Lampada\\anaconda3\\envs\\mestrado\\lib\\site-packages\\numpy\\core\\numeric.py:1654: RuntimeWarning: invalid value encountered in multiply\n",
      "  multiply(a1, b0, out=tmp)\n"
     ]
    }
   ],
   "source": [
    "m0 = np.array([0.0, 0.0, 1.0])\n",
    "m1 = np.copy(m0)\n",
    "\n",
    "t0 = 0.0\n",
    "tn = 100.0\n",
    "dt = 0.001\n",
    "\n",
    "t = np.arange(t0, tn, dt)\n",
    "\n",
    "gamma = (tn - t0)/dt/4.0\n",
    "\n",
    "B1 = np.array([0.0, 1.0, 0.0])\n",
    "T1 = 6.0\n",
    "T2 = 5.0\n",
    "phi = 0.0\n",
    "\n",
    "M_x = np.zeros(t.shape[0])\n",
    "M_y = np.zeros(t.shape[0])\n",
    "M_z = np.zeros(t.shape[0])\n",
    "\n",
    "M_x[0] = m0[0]\n",
    "M_y[0] = m0[1]\n",
    "M_z[0] = m0[2]\n",
    "\n",
    "for i in range(1, t.shape[0]):\n",
    "    # B = B1*np.sin((gamma/2*np.pi)*t[i] + phi)\n",
    "    B = B1\n",
    "    # m1 = bloch_eq(m1, m0, B1*np.sin((gamma/2*np.pi)*t[i] + phi), gamma, T1, T2, dt)\n",
    "    m1 = apply_B(m1, B, gamma, dt)\n",
    "    M_x[i] = m1[0]\n",
    "    M_y[i] = m1[1]\n",
    "    M_z[i] = m1[2]\n",
    "\n"
   ]
  },
  {
   "cell_type": "code",
   "execution_count": 87,
   "metadata": {},
   "outputs": [
    {
     "name": "stdout",
     "output_type": "stream",
     "text": [
      "nan\n"
     ]
    },
    {
     "data": {
      "image/png": "[encoded data removed]",
      "text/plain": [
       "<Figure size 640x480 with 1 Axes>"
      ]
     },
     "metadata": {},
     "output_type": "display_data"
    }
   ],
   "source": [
    "# l = int((tn-t0)/dt)\n",
    "a = 0\n",
    "l = 50\n",
    "plt.plot(t[a:l], M_z[a:l])\n",
    "plt.plot(t[a:l], M_x[a:l])\n",
    "plt.plot(t[a:l], M_y[a:l])\n",
    "print(np.max((M_x + M_y + M_z)[a:]))"
   ]
  },
  {
   "cell_type": "code",
   "execution_count": 190,
   "metadata": {},
   "outputs": [],
   "source": [
    "B0 = np.array([0.0, 0.0, 0.0])\n",
    "\n",
    "M_x[0] = m1[0]\n",
    "M_y[0] = m1[1]\n",
    "M_z[0] = m1[2]\n",
    "\n",
    "for i in range(1, t.shape[0]):\n",
    "    m1 = bloch_eq(m1, m0, B0, gamma, T1, T2, dt)\n",
    "    M_x[i] = m1[0]\n",
    "    M_y[i] = m1[1]\n",
    "    M_z[i] = m1[2]"
   ]
  },
  {
   "cell_type": "code",
   "execution_count": 191,
   "metadata": {},
   "outputs": [
    {
     "name": "stdout",
     "output_type": "stream",
     "text": [
      "2324940045660.0127\n"
     ]
    },
    {
     "data": {
      "image/png": "[encoded data removed]",
      "text/plain": [
       "<Figure size 640x480 with 1 Axes>"
      ]
     },
     "metadata": {},
     "output_type": "display_data"
    }
   ],
   "source": [
    "plt.plot(t, M_z)\n",
    "plt.plot(t, M_x)\n",
    "print(M_z[-1])"
   ]
  },
  {
   "cell_type": "markdown",
   "metadata": {},
   "source": [
    "## Simulation\n",
    "The cells below include the running simulation"
   ]
  }
 ],
 "metadata": {
  "kernelspec": {
   "display_name": "mestrado",
   "language": "python",
   "name": "python3"
  },
  "language_info": {
   "codemirror_mode": {
    "name": "ipython",
    "version": 3
   },
   "file_extension": ".py",
   "mimetype": "text/x-python",
   "name": "python",
   "nbconvert_exporter": "python",
   "pygments_lexer": "ipython3",
   "version": "3.10.13"
  }
 },
 "nbformat": 4,
 "nbformat_minor": 2
}
