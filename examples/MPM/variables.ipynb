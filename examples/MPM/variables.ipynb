{
 "cells": [
  {
   "cell_type": "markdown",
   "metadata": {},
   "source": [
    "$$S_i = S_{0i} e^{-(\\alpha_i + j\\omega_i)t}e^{j\\phi_i}$$\n",
    "\n",
    "$$S_i = S_{0i} e^{-(\\alpha_i + j\\omega_i)kT_s}e^{j\\phi_i}$$\n",
    "\n",
    "$$S_i = S_{0i} e^{(-(\\alpha_i + j\\omega_i)T_s)k}e^{j\\phi_i}$$\n",
    "\n",
    "$$e^{jx} = cos(x) + jsin(x)$$\n",
    "\n",
    "$$e^{y + jx} = e^ye^{jx} = e^y(cos(x) + jsin(x))$$\n",
    "\n",
    "$$e^{-\\alpha_i - j\\omega_i} = e^{-\\alpha}(cos(\\omega) + jsin(\\omega))$$\n",
    "\n",
    "Considerando o cálculo de um polo com valor $z = a + jb$:\n",
    "\n",
    "$$e^{-\\alpha}(cos(\\omega) + jsin(\\omega)) = a + jb$$\n",
    "\n",
    "$$e^{-\\alpha}cos(\\omega) = a$$\n",
    "\n",
    "$$e^{-\\alpha}sin(\\omega) = b$$\n",
    "\n",
    "$$-\\alpha + \\log(cos(\\omega)) = \\log(a)$$\n",
    "\n",
    "$$\\alpha = \\log(cos(\\omega)) - \\log(a)$$\n",
    "\n",
    "$$e^{-\\alpha}sin(\\omega) = b$$\n",
    "\n",
    "$$\\alpha = \\log(sin(\\omega)) - log(b)$$\n",
    "\n",
    "No final, obtemos:\n",
    "\n",
    "$$\\alpha = \\log(cos(\\omega)) - \\log(a)$$\n",
    "\n",
    "$$\\alpha = \\log(sin(\\omega)) - \\log(b)$$\n",
    "\n",
    "Subtraindo a primeira da segunda:\n",
    "\n",
    "$$0 = \\log(sin(\\omega)) - \\log(b) - \\log(cos(\\omega)) + \\log(a)$$\n",
    "\n",
    "$$0 = \\log(\\frac{sin(\\omega)}{cos(\\omega)}) - \\log(b) + \\log(a)$$\n",
    "\n",
    "$$0 = \\log(tan(\\omega)) + \\log(\\frac{a}{b})$$\n",
    "\n",
    "$$1 = \\frac{a \\ tan(\\omega)}{b}$$\n",
    "\n",
    "$$\\omega = \\arctan(\\frac{b}{a})$$\n",
    "\n",
    "Que nos permite também solucionar para $\\alpha$:\n",
    "\n",
    "$$\\alpha = \\log(\\frac{cos(\\arctan(\\frac{b}{a}))}{a})$$\n",
    "\n"
   ]
  },
  {
   "cell_type": "markdown",
   "metadata": {},
   "source": [
    "Considerando agora o cálculo de um resíduo $R = c + jd$:\n",
    "\n",
    "$$S_0 (cos(\\phi) + jsin(\\phi)) = c + jd$$\n",
    "\n",
    "$$S_0 cos(\\phi) = c$$\n",
    "\n",
    "$$S_0 sin(\\phi) = d$$\n",
    "\n",
    "Fazendo a razão da segunda pela primeira:\n",
    "\n",
    "$$\\frac{S_0}{S_0}\\frac{sin(\\phi)}{cos(\\phi)} = \\frac{d}{c}$$\n",
    "\n",
    "$$\\phi = \\arctan(\\frac{d}{c})$$\n",
    "\n",
    "Substituindo na primeira equação:\n",
    "\n",
    "$$S_0 = \\frac{c}{cos(\\arctan(\\frac{d}{c}))}$$"
   ]
  },
  {
   "cell_type": "markdown",
   "metadata": {},
   "source": [
    "Sendo assim, considerando o cálculo de polos e resíduos da forma:\n",
    "\n",
    "$$z = a + jb$$\n",
    "\n",
    "$$R = c + jd$$\n",
    "\n",
    "Temos:\n",
    "\n",
    "| $S_0$ | $\\phi$ | $\\omega$ | $\\alpha$ | \n",
    "| ----- | ------ | -------- | -------- |\n",
    "| $\\frac{c}{cos(\\arctan(\\frac{d}{c}))}$ | $\\arctan(\\frac{d}{c})$ | $\\arctan(\\frac{b}{a})$ | $\\log(\\frac{cos(\\arctan(\\frac{b}{a}))}{a})$ | \n"
   ]
  }
 ],
 "metadata": {
  "language_info": {
   "name": "python"
  }
 },
 "nbformat": 4,
 "nbformat_minor": 2
}
