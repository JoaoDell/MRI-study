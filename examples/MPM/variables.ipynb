{
 "cells": [
  {
   "cell_type": "markdown",
   "metadata": {},
   "source": [
    "$$S_i = S_{0i} e^{-(\\alpha_i + j\\omega_i)t}e^{j\\phi_i}$$\n",
    "\n",
    "$$S_i = S_{0i} e^{-(\\alpha_i + j\\omega_i)kT_s}e^{j\\phi_i}$$\n",
    "\n",
    "$$S_i = S_{0i} e^{(-(\\alpha_i + j\\omega_i)T_s)k}e^{j\\phi_i}$$\n",
    "\n",
    "$$e^{jx} = cos(x) + jsin(x)$$\n",
    "\n",
    "$$e^{y + jx} = e^ye^{jx} = e^y(cos(x) + jsin(x))$$\n",
    "\n",
    "$$e^{-\\alpha T_s - j\\omega T_s} = e^{-\\alpha T_s}(cos(\\omega T_s) + jsin(\\omega T_s))$$"
   ]
  },
  {
   "cell_type": "markdown",
   "metadata": {},
   "source": [
    "Considerando:\n",
    "\n",
    "$$e^{-\\alpha T_s} = |a + jb|$$\n",
    "\n",
    "$$-\\alpha T_s = \\log(\\sqrt{a^2 + b^2})$$\n",
    "\n",
    "$$\\alpha = -\\frac{\\log(\\sqrt{a^2 + b^2})}{T_s}$$\n"
   ]
  },
  {
   "cell_type": "markdown",
   "metadata": {},
   "source": [
    "\n",
    "Considerando o cálculo de um polo com valor $z = a + jb$:\n",
    "\n",
    "$$e^{-\\alpha T_s}(cos(\\omega T_s) + jsin(\\omega T_s)) = a + jb$$\n",
    "\n",
    "$$e^{-\\alpha T_s}cos(\\omega T_s) = a$$\n",
    "\n",
    "$$e^{-\\alpha T_s}sin(\\omega T_s) = b$$\n",
    "\n",
    "$$-\\alpha T_s + \\log(cos(\\omega T_s)) = \\log(a)$$\n",
    "\n",
    "$$\\alpha T_s = \\log(cos(\\omega T_s)) - \\log(a)$$\n",
    "\n",
    "$$e^{-\\alpha T_s}sin(\\omega T_s) = b$$\n",
    "\n",
    "$$\\alpha T_s = \\log(sin(\\omega T_s)) - log(b)$$\n",
    "\n",
    "No final, obtemos:\n",
    "\n",
    "$$\\alpha T_s = \\log(cos(\\omega T_s)) - \\log(a)$$\n",
    "\n",
    "$$\\alpha T_s = \\log(sin(\\omega T_s)) - \\log(b)$$\n",
    "\n",
    "Subtraindo a primeira da segunda:\n",
    "\n",
    "$$0 = \\log(sin(\\omega T_s)) - \\log(b) - \\log(cos(\\omega T_s)) + \\log(a)$$\n",
    "\n",
    "$$0 = \\log(\\frac{sin(\\omega T_s)}{cos(\\omega T_s)}) - \\log(b) + \\log(a)$$\n",
    "\n",
    "$$0 = \\log(tan(\\omega T_s)) + \\log(\\frac{a}{b})$$\n",
    "\n",
    "$$1 = \\frac{a \\ tan(\\omega T_s)}{b}$$\n",
    "\n",
    "$$\\omega = \\frac{1}{T_s} \\arctan(\\frac{b}{a})$$\n",
    "\n",
    "Que nos permite também solucionar para $\\alpha$:\n",
    "\n",
    "$$\\alpha = \\frac{1}{T_s} \\log(\\frac{cos(\\arctan(\\frac{b}{a}))}{a})$$\n",
    "\n"
   ]
  },
  {
   "cell_type": "markdown",
   "metadata": {},
   "source": [
    "Considerando agora o cálculo de um resíduo $R = c + jd$:\n",
    "\n",
    "$$S_0 (cos(\\phi) + jsin(\\phi)) = c + jd$$\n",
    "\n",
    "$$S_0 cos(\\phi) = c$$\n",
    "\n",
    "$$S_0 sin(\\phi) = d$$\n",
    "\n",
    "Fazendo a razão da segunda pela primeira:\n",
    "\n",
    "$$\\frac{S_0}{S_0}\\frac{sin(\\phi)}{cos(\\phi)} = \\frac{d}{c}$$\n",
    "\n",
    "$$\\phi = \\arctan(\\frac{d}{c})$$\n",
    "\n",
    "Substituindo na primeira equação:\n",
    "\n",
    "$$S_0 = \\sqrt{(c^2 + d^2)}$$"
   ]
  },
  {
   "cell_type": "markdown",
   "metadata": {},
   "source": [
    "Sendo assim, considerando o cálculo de polos e resíduos da forma:\n",
    "\n",
    "$$z = a + jb$$\n",
    "\n",
    "$$R = c + jd$$\n",
    "\n",
    "Temos:\n",
    "\n",
    "| $S_0$ | $\\phi$ | $\\omega$ | $\\alpha$ | \n",
    "| ----- | ------ | -------- | -------- |\n",
    "| $\\sqrt{(c^2 + d^2)}$ | $\\arctan(\\frac{d}{c})$ | $\\frac{1}{T_s} \\arctan(\\frac{b}{a})$ | $ -\\frac{\\log(\\sqrt{a^2 + b^2})}{T_s} $ | \n",
    "\n",
    "É importante comentar que para os cálculos $\\phi$ e $\\omega$, o ajuste de quadrantes deve ser feito, pois a função $\\arctan$ só retorna valores entre $-\\frac{\\pi}{2}$ e $\\frac{\\pi}{2}$. O ajuste é feito da seguinte maneira:\n",
    "\n",
    "   - **Quadrante I** $((a > 0, b > 0)): \\theta = \\arctan\\left(\\frac{b}{a}\\right)$\n",
    "   - **Quadrante II** $((a < 0, b > 0)): \\theta = \\pi + \\arctan\\left(\\frac{b}{a}\\right)$\n",
    "   - **Quadrante III** $((a < 0, b < 0)): \\theta = -\\pi + \\arctan\\left(\\frac{b}{a}\\right)$\n",
    "   - **Quadrante IV** $((a > 0, b < 0)): \\theta = \\arctan\\left(\\frac{b}{a}\\right)$ (Mesmo que o quadrante I, mas negativo)\n"
   ]
  },
  {
   "cell_type": "code",
   "execution_count": null,
   "metadata": {},
   "outputs": [],
   "source": [
    "import numpy as np\n",
    "import matplotlib.pyplot as plt\n",
    "import pyMRI.pymri as pymri\n",
    "from numpy.fft import fft, fftfreq, fftshift\n",
    "from pyMRI.utils import RMSEll"
   ]
  },
  {
   "cell_type": "code",
   "execution_count": 81,
   "metadata": {},
   "outputs": [],
   "source": [
    "def calculate_variables_from_z_and_r(z : np.complex128, r : np.complex128, ts : float):\n",
    "    a, b, c, d = z.real, z.imag, r.real, r.imag\n",
    "    s0 = np.sqrt(c**2 + d**2)\n",
    "    phi = ( + np.pi*(np.logical_and(c < 0, d > 0)) \n",
    "            - np.pi*(np.logical_and(c < 0, d < 0)) \n",
    "            + np.arctan(d/c))\n",
    "    omega = (1/ts)*(+ np.pi*(np.logical_and(a < 0, b > 0)) \n",
    "                    - np.pi*(np.logical_and(a < 0, b < 0)) \n",
    "                    + np.arctan(b/a))\n",
    "    alpha = -(1/ts)*np.log( np.sqrt((a**2 + b**2)) )\n",
    "    return s0, phi, omega, alpha\n"
   ]
  },
  {
   "cell_type": "code",
   "execution_count": 65,
   "metadata": {},
   "outputs": [
    {
     "name": "stdout",
     "output_type": "stream",
     "text": [
      "[374.84360487 383.83596833 397.33728675 397.97594892 418.92406833\n",
      " 428.50400098 515.52810921 539.03087732 543.75697743 584.00546781]\n",
      "All frequencies are captured by the sampling rate.\n"
     ]
    }
   ],
   "source": [
    "metabolites = pymri.METABOLITES\n",
    "\n",
    "t0 = 0.0\n",
    "tn = 1.0\n",
    "n_points = 2048\n",
    "Dt = tn - t0\n",
    "dt = Dt/n_points \n",
    "sampling_f = 1.0/dt # cycles/s\n",
    "B0 = 3.0\n",
    "\n",
    "met_slice = 10 #limit is 14\n",
    "\n",
    "deltas = np.array(list(metabolites.values()))[:met_slice, 0]\n",
    "t2s = np.array(list(metabolites.values()))[:met_slice, 1]\n",
    "M_0s = np.array(list(metabolites.values()))[:met_slice, 2]\n",
    "spins_phi = np.zeros_like(deltas)\n",
    "ws = pymri.hz_to_rad(pymri.f_from_chem_shift(deltas, B0) )\n",
    "\n",
    "print( pymri.rad_to_hz(ws) )\n",
    "print( \"All frequencies are captured by the sampling rate.\" if pymri.check_frequency(ws, dt) == True \n",
    "      else f\"At least one frequency is NOT captured by the sampling rate\")\n",
    "\n",
    "pop = pymri.population(ws, t2s, M_0s, spins_phi)\n",
    "\n",
    "sig, t = pymri.population_transverse_decay(t0, tn, dt, pop, np.array([]))\n",
    "sig_fft = fftshift(fft(sig, sig.size))\n",
    "freqs = pymri.chem_shift_from_f(fftshift(fftfreq(sig.size, d = dt)), B0)\n",
    "plot_freqs = freqs[freqs.size//2:]\n",
    "plot_sig_fft = sig_fft[freqs.size//2:]\n",
    "\n",
    "center = plot_freqs.size//2\n",
    "b = plot_freqs.size//2\n",
    "b = int(35*100*dt*b)"
   ]
  },
  {
   "cell_type": "code",
   "execution_count": 66,
   "metadata": {},
   "outputs": [],
   "source": [
    "rcond = 1e-7 # variável MUITO importante para fazer os cálculos numéricos darem certo\n",
    "zero_filtering = 1e-14"
   ]
  },
  {
   "cell_type": "code",
   "execution_count": 67,
   "metadata": {},
   "outputs": [],
   "source": [
    "c_sig = pymri.corrupted_snr(sig, 0.0, 0.02)"
   ]
  },
  {
   "cell_type": "code",
   "execution_count": 68,
   "metadata": {},
   "outputs": [
    {
     "name": "stdout",
     "output_type": "stream",
     "text": [
      "1024\n",
      "10\n"
     ]
    }
   ],
   "source": [
    "reconstructed_sig, z, r = pymri.filter_sig(sig, 0.5, 1e-15, rcond=rcond, zero_filtering=zero_filtering, return_poles_and_res=True)"
   ]
  },
  {
   "cell_type": "code",
   "execution_count": 69,
   "metadata": {},
   "outputs": [
    {
     "name": "stdout",
     "output_type": "stream",
     "text": [
      "[-0.21839148+0.97246511j -0.09682509+0.99065316j -0.08247939+0.99228902j\n",
      " -0.01076697+0.99468259j  0.25230863+0.96331645j  0.28004212+0.95389802j\n",
      "  0.39858131+0.89064252j  0.38061139+0.91757086j  0.34089395+0.93440117j\n",
      "  0.31999825+0.87181607j]\n"
     ]
    }
   ],
   "source": [
    "print(z)"
   ]
  },
  {
   "cell_type": "code",
   "execution_count": 70,
   "metadata": {},
   "outputs": [
    {
     "data": {
      "image/png": "[encoded data removed]",
      "text/plain": [
       "<Figure size 1500x500 with 2 Axes>"
      ]
     },
     "metadata": {},
     "output_type": "display_data"
    }
   ],
   "source": [
    "plt.figure(figsize=(15, 5))\n",
    "\n",
    "plt.subplot(121)\n",
    "plt.plot(t, sig.real, c = \"royalblue\")\n",
    "plt.title(\"Original\")\n",
    "plt.grid()\n",
    "\n",
    "plt.subplot(122)\n",
    "plt.plot(t, reconstructed_sig.real, c = \"mediumturquoise\")\n",
    "plt.title(\"Reconstruído\")\n",
    "plt.grid()"
   ]
  },
  {
   "cell_type": "code",
   "execution_count": null,
   "metadata": {},
   "outputs": [],
   "source": [
    "# a, b, c, d = z.real, z.imag, r.real, r.imag\n",
    "# s0 = c/np.cos(np.arctan(d/c))\n",
    "# phi = np.arctan(d/c)\n",
    "# omega = (1/dt)*np.arctan(b/a)\n",
    "# alpha = (1/dt)*np.log(np.cos(np.arctan(b/a))/a)"
   ]
  },
  {
   "cell_type": "code",
   "execution_count": 82,
   "metadata": {},
   "outputs": [],
   "source": [
    "# z.real[z.real <= zero_filtering] = 0.0\n",
    "# z.imag[z.imag <= zero_filtering] = 0.0\n",
    "# r.real[r.real <= zero_filtering] = 0.0\n",
    "# r.real[r.imag <= zero_filtering] = 0.0\n",
    "# É melhor filtrar os valores zeros direto antes ?\n",
    "s0, phi, omega, alpha = calculate_variables_from_z_and_r(z, r, dt)"
   ]
  },
  {
   "cell_type": "code",
   "execution_count": 83,
   "metadata": {},
   "outputs": [
    {
     "name": "stdout",
     "output_type": "stream",
     "text": [
      "Generated \t\t\t\t|\t Original\n",
      "[3669.41457469 3416.52585124 3386.83088847 3239.1586412  2692.37004302\n",
      " 2632.17755093 2355.21183064 2411.71251655 2500.55663488 2496.54380208] \t\t|\t [2355.21183064 2411.71251655 2496.54380208 2500.55663488 2632.17755093\n",
      " 2692.37004302 3239.1586412  3386.83088847 3416.52585124 3669.41457469]\n",
      "[0.1471 0.1053 0.1136 0.0926 0.1163 0.0833 0.0199 0.0735 0.0909 0.0066] \t\t\t|\t [0.0199 0.0735 0.0066 0.0909 0.0833 0.1163 0.0926 0.1136 0.1053 0.1471]\n",
      "[0.0411 0.0202 0.0776 0.2026 0.0427 0.0451 0.2917 0.4289 0.0184 0.029 ] \t\t\t|\t [0.2917 0.4289 0.029  0.0184 0.0451 0.0427 0.2026 0.0776 0.0202 0.0411]\n",
      "[ 2.85866579e-14  7.02133621e-13  7.58270880e-14 -6.69229945e-14\n",
      " -1.30855839e-13  5.98883471e-14  5.33886870e-13 -2.74093589e-13\n",
      " -6.63720286e-13 -2.63151569e-12] \t|\t [0. 0. 0. 0. 0. 0. 0. 0. 0. 0.]\n"
     ]
    }
   ],
   "source": [
    "with np.printoptions(threshold=np.inf):\n",
    "    print(\"Generated \\t\\t\\t\\t|\\t Original\")\n",
    "    print(omega, \"\\t\\t|\\t\", ws)\n",
    "    print(1/alpha, \"\\t\\t\\t|\\t\",  t2s)\n",
    "    print(s0, \"\\t\\t\\t|\\t\",  M_0s)\n",
    "    print(phi, \"\\t|\\t\",  spins_phi)\n",
    "    # print(t2s)\n",
    "    # print(ws)\n",
    "    "
   ]
  }
 ],
 "metadata": {
  "kernelspec": {
   "display_name": "mestrado",
   "language": "python",
   "name": "python3"
  },
  "language_info": {
   "codemirror_mode": {
    "name": "ipython",
    "version": 3
   },
   "file_extension": ".py",
   "mimetype": "text/x-python",
   "name": "python",
   "nbconvert_exporter": "python",
   "pygments_lexer": "ipython3",
   "version": "3.10.13"
  }
 },
 "nbformat": 4,
 "nbformat_minor": 2
}
