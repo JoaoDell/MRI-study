{
 "cells": [
  {
   "cell_type": "markdown",
   "id": "b97d40bb",
   "metadata": {},
   "source": [
    "# Checkpoint | Agosto\n",
    "\n",
    "Esse notebook tem como objetivo organizar o que foi feito até então, de maneira a entender aonde se localiza o projeto no momento."
   ]
  },
  {
   "cell_type": "markdown",
   "id": "ee138abc",
   "metadata": {},
   "source": [
    "## Arquivos novos\n",
    "\n",
    "1. [two_peaks.ipynb](two_peaks.ipynb)\n",
    "2. [two_peaks_noisy.ipynb](two_peaks_noisy.ipynb)\n",
    "3. [variables_correlation.ipynb](variables_correlation.ipynb)\n",
    "4. [t2_exploration.ipynb](t2_exploration.ipynb)\n",
    "5. [svd_second_testing.ipynb](svd_second_testing.ipynb)\n",
    "6. [matrix_condition.ipynb](matrix_condition.ipynb)\n",
    "7. [second_smart_noise_filtering.ipynb](second_smart_noise_filtering.ipynb)\n",
    "\n",
    "## Atualizações \n",
    "\n",
    "1. [single_peak_noise_non_interactive.ipynb](single_peak_noise_non_interactive.ipynb)"
   ]
  },
  {
   "cell_type": "markdown",
   "id": "92a39c01",
   "metadata": {},
   "source": [
    "## Arquivos novos"
   ]
  },
  {
   "cell_type": "markdown",
   "id": "57d1ec68",
   "metadata": {},
   "source": [
    "### 1. [two_peaks.ipynb](two_peaks.ipynb)\n",
    "\n",
    "Foram gerados dois picos de amplitude e parâmetros idênticos a partir de um pico de NAA, diferindo apenas de um valor de diferença em suas frequências, provocando uma distância entre os mesmos no plano de frequências. Foram rodados testes para suas outras 3 variáveis: $S_0$, $T_2$ e $\\phi$. Para todos os testes, foi variada a distância de frequência entre os dois picos de `1e3` a `1e-16`.\n",
    "\n",
    "#### $S_0$\n",
    "- $S_0'$ : [0.05 0.1  0.15 0.2  0.25 0.3  0.35 0.4  0.45 0.5  0.55 0.6  0.65 0.7  0.75 0.8  0.85 0.9  0.95 1.  ]$\\cdot S_0$\n",
    "- $T_2'$ : 0.0735\n",
    "- $\\phi'$ : 0.0\n",
    "\n",
    "Foi concluído que, independente da diferença de amplitude entre os dois picos, a partir de uma certa distância de frequência, aqui sendo `0.01`, os dois picos já não são mais diferenciados.\n",
    "\n",
    "#### $T_2$\n",
    "- $S_0'$ : 0.4289\n",
    "- $T_2'$ : [0.1 0.2 0.3 0.4 0.5 0.6 0.7 0.8 0.9 0.91 0.92 0.93 0.94 0.95 0.96 0.97 0.98 0.99 0.991 0.992 0.993 0.994 0.995 0.996 0.997 0.998 0.999 0.9955 0.996  0.9965 0.997  0.9975 0.998  0.9985 0.999  0.9995 1. ] $\\cdot T_2$\n",
    "- $\\phi'$ : 0.0\n",
    "\n",
    "Foi concluído que o $T_2$ influencia diretamente na capacidade do algoritmo de identificar picos sobrepostos. Essa identificação parece ser efetiva até por volta de $99.85\\%$ de similaridade de $T_2$. Após esse limite, o algoritmo passa a identificar os dois picos como um pico só.\n",
    "\n",
    "#### $\\phi$\n",
    "- $S_0'$ : 0.4289\n",
    "- $T_2'$ : 0.0735\n",
    "- $\\phi'$ : [0.         0.31415927 0.62831853 0.9424778  1.25663706 1.57079633\n",
    " 1.88495559 2.19911486 2.51327412 2.82743339 3.14159265] $\\cdot \\phi$\n",
    "\n",
    "Os resultados para a fase são inconclusivos. *Deve-se explorar melhor o que esse parâmetro faz para melhor entendimento de suas implicações.*\n",
    "\n"
   ]
  },
  {
   "cell_type": "markdown",
   "id": "cb078952",
   "metadata": {},
   "source": [
    "### 2. [two_peaks_noisy.ipynb](two_peaks_noisy.ipynb)\n",
    "\n",
    "Foram gerados os mesmos dois picos de NAA, porém agora corrompidos com ruído gaussiano a partir da função `commpy.channels.awgn`. Foram usados os seguintes SNRS: $[0.25, 0.50, 0.75, 1.0, 2.5, 5.0, 10.0, 25.0, 50.0, 75.0, 100.0]$. Foi verificado que o maior pico calculado raramente corresponde ao maior pico no espectro das frequências para SNRs baixos, demonstrando que esse parâmetro não deve ser avaliado de maneira isolada das outras variáveis na seleção das frequências. Foi também verificado que, em alguns casos, os maiores picos correspondiam a picos com frequências impossíveis. Ver definição de frequências impossíveis no item 4.\n",
    "\n",
    "*Repetir os testes.*"
   ]
  },
  {
   "cell_type": "markdown",
   "id": "d4d4ecec",
   "metadata": {},
   "source": [
    "### 3. [variables_correlation.ipynb](variables_correlation.ipynb)\n",
    "\n",
    "Foi explorada a possibilidade de correlação dentre as variáveis $S_0$, $\\phi$, $\\omega$, $T_2$ a partir do coeficiente de Pearson para vários SNRs. Foram rodados os SNRs : $[0.25, 0.50, 0.75, 1.0, 2.5, 5.0, 10.0, 25.0, 50.0, 75.0, 100.0]$ 10 vezes, a fim de estatística. Foram analisadas as correlações das variáveis entre si ao longo do L_, e a correlação das variáveis ao longo do SNR. *Os resultados são inconclusivos (apesar de apontarem ausência de correlação) e deve-se explorar melhor essa possibilidade, mas procurando outros caminhos.*\n"
   ]
  },
  {
   "cell_type": "markdown",
   "id": "37b4df8c",
   "metadata": {},
   "source": [
    "### 4. [t2_exploration.ipynb](t2_exploration.ipynb)\n",
    "\n",
    "Explorou-se aqui o comportamento do $T_2$ de dados advindos da simulação 2, que trata de dois picos sobrepostos com a presença de ruído. Verificou-se o significado físico dos $T_2$, de maneira a seguir com a ideia de filtragem de ruído a partir de inconsistências físicas nos valores. Um exemplo de resultado que se chegou:\n",
    "\n",
    "| Condição                      | N   |\n",
    "|-------------------------------|-----|\n",
    "| Total                         | 819 |\n",
    "| Ordem absoluta menor que -1.3 | 43  |\n",
    "| Ordem absoluta maior que -0.5 | 478 |\n",
    "| Negativos                     | 82  |\n",
    "| Restantes                     | 294 |\n",
    "\n",
    "Demonstrando que uma quantidade significativa de elementos pode ser filtrada a partir de significados físicos inconsistentes.\n",
    "\n",
    "Foi também verificado a quantidade de frequências impossíveis existentes dentre as frequências calculadas. Frequências impossíveis são aqui definidas como frequências que estão além do limite de Nyquist, ou seja, são frequências que em teoria não existem no sinal na realidade pois estão além do limite de identificação a partir do sampling. Lembrando que o limite de Nyquist define que poderão ser identificadas apenas frequências abaixo da frequência máxima, definida como:\n",
    "\n",
    "$$f_{max} = \\frac{1}{2dt}$$\n",
    "\n",
    "Nos mesmos dados descritos anteriormente, foi possível identificar aproximadamente metade das frequências totais como frequências impossíveis, nesse caso, 409. Filtrar essas frequências não mudará a quantidade do ruído no domínio da frequência, mas auxiliará na filtragem de $T_2$, por exemplo, diminuindo o espaço amostral com o qual a filtragem deverá trabalhar."
   ]
  },
  {
   "cell_type": "markdown",
   "id": "ff982b7f",
   "metadata": {},
   "source": [
    "### 5. [svd_second_testing.ipynb](svd_second_testing.ipynb)\n",
    "\n",
    "Foi testado o parâmetro de corte do svd para entender como ele influenciava na resposta do algoritmo. Foi verificado que, para o sinal normalizado e nas demais condições apresentadas, o intervalo da ordem do parâmetro de corte que aplica um corte efetivo vai de aproximadamente $-1.8$ até $-1.5$. Além do extremo direito, o svd corta partes essenciais do sinal. Foi verificado que, aparentemente, o número médio de frequências possíveis não muda com o parâmetro do svd, parecendo ficar por volta da metade do número total de frequências calculadas.\n",
    "\n",
    "Durante o experimento, foi verificado pela primeira vez interferência da característica mal-posta do problema, visto que a construção da matriz $Z_s$ para o cálculo dos resíduos a partir da potenciação dos polos, de valores baixos, a potências extremas (como o limite de 2048, correspondente ao tamanho do sinal) introduzia instabilidade numérica na etapa de mínimos quadrados, impossibilitando o prosseguimento dos cálculos do algoritmo. \n",
    "\n",
    "\n"
   ]
  },
  {
   "cell_type": "markdown",
   "id": "b4cdc4ef",
   "metadata": {},
   "source": [
    "### 6. [matrix_condition.ipynb](matrix_condition.ipynb)\n",
    "\n",
    "A partir do problema encontrado no item anterior, foi feita uma investigação para entender até aonde a condição mal-posta do MPM chegava. Para isso foi criada uma função que calculasse o número de condição de cada matriz do problema. Foram identificadas três matrizes que poderiam apresentar instabilidade:\n",
    "\n",
    "1. $Y_1$, derivada da matriz $Y$ e usada para ter sua **pseudo-inversa calculada**.\n",
    "2. $Y_1^* Y_2$, usada para calcular os polos por meio dos **autovalores**.\n",
    "3. $Z_s$, matriz de polos potenciados, usada para o cálculo dos resíduos por meio dos **mínimos quadrados**.\n",
    "\n",
    "Foi verificado que, aparentemente, a instabilidade numérica parece estar associada necessariamente ao corte do SVD que de fato impacte o sistema, em SNRs baixos (< 10 dB). Por mais que números de condicionamento da ordem de 1e6 até 1e21 sejam grandes e possam indicar problemas mal-postos, aparentemente o número condicionamento de que de fato rende problemas aqui é significativamente maior, de ordens maiores que 1e100. Esses nível de problema acontece especificamente na matriz `Zs`, que é composta pelos polos z elevados de $i = 0$ até $i = N-1$."
   ]
  },
  {
   "cell_type": "markdown",
   "id": "6f097e53",
   "metadata": {},
   "source": [
    "### 7. [second_smart_noise_filtering.ipynb](second_smart_noise_filtering.ipynb)\n",
    "\n",
    "Dado todo o processo de investigação, foi explorada, mais uma vez, a possibilidade de um filtro \"esperto\" de ruído, levando em consideração o signficado físico das variáveis. Foi verificado um potencial para o filtro por $T_2$ e $\\omega$, porém o filtro por fase $\\phi$ não apresentou capacidade significativa de filtro. \n",
    "\n",
    "Foi constatado, inclusive, que filtrando fases longe do zero distorce ou até exclui alguns dos picos originais dos metabólitos, indicando duas possíveis coisas:\n",
    "\n",
    "1. Os picos de fato fragmentam-se em vários picos menores, principalmente em picos com SNR relativo baixo, perdendo completamente suas características individuais.\n",
    "2. As fases são distorcidas de maneira significativa, deslocando os picos originais e diminuindo sua intensidade."
   ]
  },
  {
   "cell_type": "markdown",
   "id": "b489db3b",
   "metadata": {},
   "source": [
    "## Atualizações"
   ]
  },
  {
   "cell_type": "markdown",
   "id": "658e7825",
   "metadata": {},
   "source": [
    "### 1. [single_peak_noise_non_interactive.ipynb](single_peak_noise_non_interactive.ipynb)\n",
    "\n",
    "A partir da ideia de frequências impossíveis, foi verificado quantas frequências me um sinal corrompido correspondiam a frequências impossíveis. Foi verificado que aproximadamente metade das frequências eram impossíveis. *Fazer uma estatística do número médio de frequências impossíveis*.\n",
    "\n"
   ]
  },
  {
   "cell_type": "markdown",
   "id": "2a9431de",
   "metadata": {},
   "source": [
    "## Tarefas\n",
    "\n",
    "1. Tentar reproduzir os resultados dos picos com T2 diferente e maior resolução. **CONCLUÍDO**\n",
    "2. Gerar 2 picos de NAA, gerar o sinal exatamente sobrespostos, gerar segundo sinal com dois NAA, mas com uma diferença de 0,5 Hz, especificamente num domínio com resolução maior que o offset (o que a priori impossibilitaria a aparição no espectro). Subtrair os dois picos pra verificar se são exatamente iguais. **CONCLUÍDO**\n",
    "3. Mandar o restante dos programas para o prof.\n",
    "4. Analisar mais a fundo o erro, verificando como se comporta o espectro do erro."
   ]
  }
 ],
 "metadata": {
  "kernelspec": {
   "display_name": "mestrado",
   "language": "python",
   "name": "python3"
  },
  "language_info": {
   "codemirror_mode": {
    "name": "ipython",
    "version": 3
   },
   "file_extension": ".py",
   "mimetype": "text/x-python",
   "name": "python",
   "nbconvert_exporter": "python",
   "pygments_lexer": "ipython3",
   "version": "3.10.13"
  }
 },
 "nbformat": 4,
 "nbformat_minor": 5
}
