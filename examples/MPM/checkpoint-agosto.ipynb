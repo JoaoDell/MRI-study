{
 "cells": [
  {
   "cell_type": "markdown",
   "id": "b97d40bb",
   "metadata": {},
   "source": [
    "# Checkpoint | Agosto\n",
    "\n",
    "Esse notebook tem como objetivo organizar o que foi feito até então, de maneira a entender aonde se localiza o projeto no momento."
   ]
  },
  {
   "cell_type": "markdown",
   "id": "ee138abc",
   "metadata": {},
   "source": [
    "## Arquivos novos\n",
    "\n",
    "1. [two_peaks.ipynb](two_peaks.ipynb)\n",
    "2. [two_peaks_noisy.ipynb](two_peaks_noisy.ipynb)\n",
    "3. [variables_correlation.ipynb](variables_correlation.ipynb)\n",
    "4. [t2_exploration.ipynb](t2_exploration.ipynb)\n",
    "5. [svd_second_testing.ipynb](svd_second_testing.ipynb)\n",
    "6. [second_smart_noise_filtering.ipynb](second_smart_noise_filtering.ipynb)\n",
    "7. [matrix_condition.ipynb](matrix_condition.ipynb)"
   ]
  },
  {
   "cell_type": "markdown",
   "id": "57d1ec68",
   "metadata": {},
   "source": [
    "### 1. [two_peaks.ipynb](two_peaks.ipynb)\n",
    "\n",
    "Foram gerados dois picos de amplitude e parâmetros idênticos a partir de um pico de NAA, diferindo apenas de um valor de diferença em suas frequências, provocando uma distância entre os mesmos no plano de frequências. Essa diferença foi inicialmente variada de 1e3 a 1e-16, com um passo na sua ordem, e para cada diferença, foram feitas 10 médias com objetivo de fazer uma análise estatística. \n",
    "\n",
    "Uma conclusão interessante desse notebook foi entender qual era o limite de identificação entre dois picos sobrepostos. Verificou-se que o limite do algoritmo estava diretamente associado à resolução do problema: para o caso trabalhado de $2048$ pontos, limite das análises clínicas, no intervalo de $[0.0, 1.0] s$, o algoritmo conseguia diferir dois picos sobrepostos com precisão até mais ou menos 0.1Hz. Foi sugerido que o limite próximo de $2048 \\cdot\\frac{1.0 - 0.0}{2048} = 1.0 Hz$ indicaria o limite da resolução."
   ]
  },
  {
   "cell_type": "code",
   "execution_count": null,
   "id": "665896e1",
   "metadata": {},
   "outputs": [
    {
     "name": "stdout",
     "output_type": "stream",
     "text": [
      "2048.0\n"
     ]
    }
   ],
   "source": [
    "t0 = 0.0\n",
    "tn = 1.0\n",
    "n = 2048\n",
    "dt = (tn - t0)/n\n",
    "sampling_f = 1/dt"
   ]
  },
  {
   "cell_type": "markdown",
   "id": "cb078952",
   "metadata": {},
   "source": [
    "### 2. [two_peaks_noisy.ipynb](two_peaks_noisy.ipynb)\n",
    "\n",
    "Foram gerados os mesmos dois picos de NAA, porém agora corrompidos com ruído gaussiano a partir da função `commpy.channels.awgn`. Foram usados os seguintes SNRS: $[0.25, 0.50, 0.75, 1.0, 2.5, 5.0, 10.0, 25.0, 50.0, 75.0, 100.0]$. Foi verificado que o maior pico calculado raramente corresponde ao maior pico no espectro das frequências para SNRs baixos, demonstrando que esse parâmetro não deve ser avaliado de maneira isolada das outras variáveis na seleção das frequências."
   ]
  },
  {
   "cell_type": "markdown",
   "id": "d4d4ecec",
   "metadata": {},
   "source": [
    "### 3. [variables_correlation.ipynb](variables_correlation.ipynb)"
   ]
  },
  {
   "cell_type": "markdown",
   "id": "37b4df8c",
   "metadata": {},
   "source": [
    "### 4. [t2_exploration.ipynb](t2_exploration.ipynb)\n"
   ]
  },
  {
   "cell_type": "markdown",
   "id": "ff982b7f",
   "metadata": {},
   "source": [
    "### 5. [svd_second_testing.ipynb](svd_second_testing.ipynb)\n"
   ]
  },
  {
   "cell_type": "markdown",
   "id": "6f097e53",
   "metadata": {},
   "source": [
    "### 6. [second_smart_noise_filtering.ipynb](second_smart_noise_filtering.ipynb)\n"
   ]
  },
  {
   "cell_type": "markdown",
   "id": "b4cdc4ef",
   "metadata": {},
   "source": [
    "### 7. [matrix_condition.ipynb](matrix_condition.ipynb)"
   ]
  },
  {
   "cell_type": "markdown",
   "id": "2a9431de",
   "metadata": {},
   "source": [
    "## Tarefas\n",
    "\n",
    "1. Tentar reproduzir os resultados dos picos com T2 diferente e maior resoluç\n",
    "2. Gerar 2 picos de NAA, gerar o sinal exatamente sobrespostos, gerar segundo sinal com dois NAA, mas com uma diferença de 0,5 Hz, especificamente num domínio com resolução maior que o offset (o que a priori impossibilitaria a aparição no espectro). Subtrair os dois picos pra verificar se são exatamente iguais.\n",
    "3. Mandar o restante dos programas para o prof."
   ]
  }
 ],
 "metadata": {
  "kernelspec": {
   "display_name": "mestrado",
   "language": "python",
   "name": "python3"
  },
  "language_info": {
   "codemirror_mode": {
    "name": "ipython",
    "version": 3
   },
   "file_extension": ".py",
   "mimetype": "text/x-python",
   "name": "python",
   "nbconvert_exporter": "python",
   "pygments_lexer": "ipython3",
   "version": "3.10.13"
  }
 },
 "nbformat": 4,
 "nbformat_minor": 5
}
