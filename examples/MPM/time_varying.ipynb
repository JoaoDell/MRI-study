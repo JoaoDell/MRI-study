{
 "cells": [
  {
   "cell_type": "code",
   "execution_count": 1,
   "id": "eeee6aeb",
   "metadata": {},
   "outputs": [],
   "source": [
    "from commpy.channels import awgn\n",
    "import numpy as np\n",
    "import matplotlib.pyplot as plt\n",
    "import pyMRI.pymri as pymri\n",
    "import pandas as pd\n",
    "from pyMRI.utils import RMSE\n",
    "import seaborn as sns\n",
    "from typing import Literal"
   ]
  },
  {
   "cell_type": "code",
   "execution_count": 2,
   "id": "8eeffdd4",
   "metadata": {},
   "outputs": [
    {
     "name": "stdout",
     "output_type": "stream",
     "text": [
      "All frequencies are captured by the sampling rate.\n"
     ]
    }
   ],
   "source": [
    "metabolites = pymri.METABOLITES\n",
    "met_i = 1\n",
    "\n",
    "t0, tn, dt, B0 = pymri.setup_sim_t(0.0, 1.0, 2048, 3.0)\n",
    "\n",
    "ws, t2s, M_0s = pymri.unpack_metabolites(metabolites, B0)\n",
    "ws, t2s, M_0s = ws[met_i - 1:met_i + 1], t2s[met_i - 1:met_i + 1], M_0s[met_i - 1:met_i + 1]\n",
    "ws[0] = ws[1]\n",
    "t2s[0] = t2s[1]\n",
    "M_0s[0] = M_0s[1]\n",
    "spins_phi = np.zeros_like(M_0s)\n",
    "\n",
    "rcond = 1e-7 \n",
    "zero_filtering = 1e-14\n",
    "\n",
    "print( \"All frequencies are captured by the sampling rate.\" if pymri.check_frequency(ws, dt) == True \n",
    "      else f\"At least one frequency is NOT captured by the sampling rate\")"
   ]
  },
  {
   "cell_type": "code",
   "execution_count": 3,
   "id": "935e2cf5",
   "metadata": {},
   "outputs": [],
   "source": [
    "pop = pymri.population(ws, t2s, M_0s, spins_phi)\n",
    "\n",
    "sig, t = pymri.population_transverse_decay( t0, tn, dt, pop, np.array([]) )\n",
    "freqs, sig_fft = pymri.fourier_spectrum( sig, dt, B0 )"
   ]
  },
  {
   "cell_type": "code",
   "execution_count": 4,
   "id": "2403d1d6",
   "metadata": {},
   "outputs": [],
   "source": [
    "L = 0.4\n",
    "noise_threshold = 30\n",
    "L_ = int(L*sig.size)"
   ]
  },
  {
   "cell_type": "code",
   "execution_count": 5,
   "id": "2cdce826",
   "metadata": {},
   "outputs": [
    {
     "name": "stdout",
     "output_type": "stream",
     "text": [
      "[0.31622777 0.25118864 0.19952623 0.15848932 0.12589254 0.1\n",
      " 0.07943282 0.06309573 0.05011872 0.03981072 0.03162278 0.02511886\n",
      " 0.01995262 0.01584893 0.01258925 0.01       0.00794328 0.00630957\n",
      " 0.00501187 0.00398107 0.00316228 0.00251189 0.00199526 0.00158489\n",
      " 0.00125893]\n",
      "1.0\n"
     ]
    }
   ],
   "source": [
    "offsets = 10**-np.arange(0.5, 3.0, 0.1)\n",
    "print(offsets)\n",
    "tns = np.arange(1.0, 2.5, 0.1)\n",
    "print(tn)\n"
   ]
  },
  {
   "cell_type": "code",
   "execution_count": 6,
   "id": "602c0f17",
   "metadata": {},
   "outputs": [],
   "source": [
    "n_avgs = 10\n",
    "L_ = int(L*2048)\n",
    "shape = (offsets.size, tns.size, L_)\n",
    "s0s_, phis_, omegas_, t2s_ = np.zeros(shape), np.zeros(shape), np.zeros(shape), np.zeros(shape)"
   ]
  },
  {
   "cell_type": "code",
   "execution_count": 7,
   "id": "ed96533b",
   "metadata": {},
   "outputs": [],
   "source": [
    "rerun = False\n",
    "filename_end = \"\"\n",
    "folder_name = \"files/\"\n",
    "subfolder_name = \"time_varying/\""
   ]
  },
  {
   "cell_type": "code",
   "execution_count": 8,
   "id": "dd216ee1",
   "metadata": {},
   "outputs": [],
   "source": [
    "if rerun == True:\n",
    "    for i in range(tns.size):\n",
    "        for j in range(offsets.size):\n",
    "            ws[1] = ws[0] + offsets[j]\n",
    "            pop = pymri.population(ws, t2s, M_0s, spins_phi)\n",
    "            \n",
    "            t0, tn, dt, B0 = pymri.setup_sim_t(0.0, tns[i], 2048, 3.0)\n",
    "\n",
    "            sig, t = pymri.population_transverse_decay( t0, tn, dt, pop)\n",
    "            f_sig, z, r = pymri.filter_sig(sig, L, noise_threshold, return_poles_and_res=True, return_full_arrays=True)\n",
    "            s0s_[j, i, :], phis_[j, i, :], omegas_[j, i, :], t2s_[j, i, :] = pymri.calculate_variables_from_z_and_r(z, r, dt)\n",
    "            t2s_[j, i, :] = 1/t2s_[j, i, :]\n",
    "            \n",
    "            print(f\"offset {offsets[j]} tn {tns[i]}\")"
   ]
  },
  {
   "cell_type": "code",
   "execution_count": 9,
   "id": "636195ec",
   "metadata": {},
   "outputs": [],
   "source": [
    "if rerun == True:\n",
    "    np.save(folder_name + subfolder_name + \"s0s_\" + filename_end, s0s_)\n",
    "    np.save(folder_name + subfolder_name + \"phis_\" + filename_end, phis_)\n",
    "    np.save(folder_name + subfolder_name + \"omegas_\" + filename_end, omegas_)\n",
    "    np.save(folder_name + subfolder_name + \"t2s_\" + filename_end, t2s_)"
   ]
  },
  {
   "cell_type": "code",
   "execution_count": 10,
   "id": "55f54532",
   "metadata": {},
   "outputs": [],
   "source": [
    "if rerun == False:\n",
    "    s0s_ = np.load(folder_name + subfolder_name + \"s0s_\" + filename_end + \".npy\")\n",
    "    phis_ = np.load(folder_name + subfolder_name + \"phis_\" + filename_end + \".npy\")\n",
    "    omegas_ = np.load(folder_name + subfolder_name + \"omegas_\" + filename_end + \".npy\")\n",
    "    t2s_ = np.load(folder_name + subfolder_name + \"t2s_\" + filename_end + \".npy\")"
   ]
  },
  {
   "cell_type": "code",
   "execution_count": 29,
   "id": "a53a938c",
   "metadata": {},
   "outputs": [
    {
     "name": "stdout",
     "output_type": "stream",
     "text": [
      "Offset \t\t\t tn\n",
      "0.31622776601683794 \t 1.0\n",
      "Original\n",
      "[2411.71251655 2412.02874432]\n",
      "Identificado\n",
      "[2411.71251655 2412.02874432]\n",
      "Erro\n",
      "[-2.05955075e-09  2.48019205e-09]\n"
     ]
    }
   ],
   "source": [
    "i_tn = 0\n",
    "i = 0\n",
    "\n",
    "args = np.argsort(s0s_[:, i_tn, :], axis=1)\n",
    "\n",
    "identified_s0 = np.sort(s0s_[i, i_tn, args[i, :]][L_ - 2: L_]) #filtra apenas os dois ultimos, correspondentes aos dois ultimos picos\n",
    "identified_omega = np.sort(omegas_[i, i_tn, args[i, :]][L_ - 2: L_])\n",
    "identified_phi = np.sort(phis_[i, i_tn, args[i, :]][L_ - 2: L_])\n",
    "identified_t2 = np.sort(t2s_[i, i_tn, args[i, :]][L_ - 2: L_])\n",
    "\n",
    "print(\"Offset \\t\\t\\t tn\")\n",
    "print(offsets[i], \"\\t\", tns[i_tn]) \n",
    "print(\"Original\")\n",
    "print(np.sort(np.array([ws[0], ws[0] + offsets[i]])))\n",
    "print(\"Identificado\")\n",
    "print(identified_omega)\n",
    "print(\"Erro\")\n",
    "print(np.sort(np.array([ws[0], ws[0] + offsets[i]])) - identified_omega)"
   ]
  },
  {
   "cell_type": "code",
   "execution_count": 30,
   "id": "ffc05b84",
   "metadata": {},
   "outputs": [
    {
     "data": {
      "image/png": "[encoded data removed]",
      "text/plain": [
       "<Figure size 640x480 with 1 Axes>"
      ]
     },
     "metadata": {},
     "output_type": "display_data"
    }
   ],
   "source": [
    "first_error, second_error = np.zeros_like(offsets), np.zeros_like(offsets)\n",
    "for k in range(offsets.size):\n",
    "    compare_arr = np.sort(omegas_[k, i_tn, args[k, :]][L_ - 2: L_])\n",
    "    first_error[k] = compare_arr[0] - ws[0]\n",
    "    second_error[k] = compare_arr[1] - (ws[0] + offsets[k])\n",
    "\n",
    "# plt.figure(figsize=(10, 7))\n",
    "plt.scatter(np.log10(offsets), second_error, label = f\"Segunda frequência\")\n",
    "plt.scatter(np.log10(offsets), first_error, label = \"Primeira frequência\")\n",
    "plt.xlabel(\"Ordem dos Offsets\")\n",
    "plt.ylabel(\"Erro (U.A.)\")\n",
    "plt.title(f\"tn = {tns[i_tn]}\")\n",
    "plt.legend()\n",
    "plt.grid()"
   ]
  },
  {
   "cell_type": "markdown",
   "id": "4d0185bb",
   "metadata": {},
   "source": [
    "A priori, parece que o tn, e consequentemente a resolução do problema, não fazem nenhuma diferença na fronteira de identificação dos dois picos."
   ]
  },
  {
   "cell_type": "code",
   "execution_count": null,
   "id": "6fc961a7",
   "metadata": {},
   "outputs": [
    {
     "name": "stdout",
     "output_type": "stream",
     "text": [
      "0.4166666666666667\n"
     ]
    }
   ],
   "source": [
    "dt_ = (2.4 - 0.0)/2048\n",
    "\n",
    "print((1/dt_/2048))"
   ]
  }
 ],
 "metadata": {
  "kernelspec": {
   "display_name": "mestrado",
   "language": "python",
   "name": "python3"
  },
  "language_info": {
   "codemirror_mode": {
    "name": "ipython",
    "version": 3
   },
   "file_extension": ".py",
   "mimetype": "text/x-python",
   "name": "python",
   "nbconvert_exporter": "python",
   "pygments_lexer": "ipython3",
   "version": "3.10.13"
  }
 },
 "nbformat": 4,
 "nbformat_minor": 5
}
