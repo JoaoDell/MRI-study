{
 "cells": [
  {
   "cell_type": "markdown",
   "id": "4be986f5",
   "metadata": {},
   "source": [
    "### Reunião 16/09\n",
    "\n",
    "#### Tarefas\n",
    "1. Fazer um gráfico 3D relacionando $T_2$, $\\omega$, e $S_0$. Para cada SNR, fazer um grafico que acumule médias em scatter, por exemplo, fazendo scatter de cada média em um único gráfico. Procurar por clusters visuais que indiquem aonde podem estar os picos e aonde pode estar apenas ruído. Fiz algo parecido em [variables_correlation.ipynb](variables_correlation.ipynb)\n",
    "2. T2 pra aplicação clínica vai de 10e-2 a 10e1 (muito mais próximo de 10e0). Alto tipo 80ms até 1.5 ou 2.0s no máximo.\n",
    "3. Definir qual é o erro máximo (sinal totalmente ruidoso versus sinal limpo) para ter um parâmetro de qual é o pior caso."
   ]
  }
 ],
 "metadata": {
  "language_info": {
   "name": "python"
  }
 },
 "nbformat": 4,
 "nbformat_minor": 5
}
